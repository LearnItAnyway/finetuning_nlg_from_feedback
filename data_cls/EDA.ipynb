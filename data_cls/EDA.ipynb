{
 "cells": [
  {
   "cell_type": "markdown",
   "id": "a54d2125-59b8-44ac-a2f5-9657d561a8b0",
   "metadata": {},
   "source": [
    "# Info\n",
    "### The dataset used in the demo is from [aihub](https://aihub.or.kr/aihubdata/data/view.do?currMenu=115&topMenu=100&aihubDataSe=realm&dataSetSn=558)\n",
    "We use korean ethics data.\n",
    "When the text contain negative conetents (e.g., aggresive), the score is high.\n",
    "We do not upload the data in the current repository.\n",
    "\n",
    "데모에 사용된 데이터셋은 [aihub](https://aihub.or.kr/aihubdata/data/view.do?currMenu=115&topMenu=100&aihubDataSe=realm&dataSetSn=558)의 텍스트 윤리검증 데이터입니다.\n",
    "부정적인 텍스트의 경우 score가 높고, 긍정적인 텍스트의 경우 score가 낮습니다."
   ]
  },
  {
   "cell_type": "code",
   "execution_count": 2,
   "id": "3bb4cadb-8727-492a-a063-b149f379cb21",
   "metadata": {},
   "outputs": [],
   "source": [
    "import pandas as pd\n",
    "train_df = pd.read_csv('train.csv')\n",
    "valid_df = pd.read_csv('valid.csv')"
   ]
  },
  {
   "cell_type": "code",
   "execution_count": 3,
   "id": "0fbaeec5-ed27-41e5-95df-b81cef8cb9ef",
   "metadata": {},
   "outputs": [
    {
     "data": {
      "text/html": [
       "<div>\n",
       "<style scoped>\n",
       "    .dataframe tbody tr th:only-of-type {\n",
       "        vertical-align: middle;\n",
       "    }\n",
       "\n",
       "    .dataframe tbody tr th {\n",
       "        vertical-align: top;\n",
       "    }\n",
       "\n",
       "    .dataframe thead th {\n",
       "        text-align: right;\n",
       "    }\n",
       "</style>\n",
       "<table border=\"1\" class=\"dataframe\">\n",
       "  <thead>\n",
       "    <tr style=\"text-align: right;\">\n",
       "      <th></th>\n",
       "      <th>text</th>\n",
       "      <th>score</th>\n",
       "    </tr>\n",
       "  </thead>\n",
       "  <tbody>\n",
       "    <tr>\n",
       "      <th>0</th>\n",
       "      <td>부랴부랴 왔는데 아무도 안왔네. 시간개념들이 없네</td>\n",
       "      <td>0.666667</td>\n",
       "    </tr>\n",
       "    <tr>\n",
       "      <th>1</th>\n",
       "      <td>맞아. 사람들이 진짜 개념이없다</td>\n",
       "      <td>0.666667</td>\n",
       "    </tr>\n",
       "    <tr>\n",
       "      <th>2</th>\n",
       "      <td>저렇게는 살지 말아야지</td>\n",
       "      <td>0.666667</td>\n",
       "    </tr>\n",
       "    <tr>\n",
       "      <th>3</th>\n",
       "      <td>그러게 게으르고 멍청한 사람들은 맞아야해</td>\n",
       "      <td>0.666667</td>\n",
       "    </tr>\n",
       "    <tr>\n",
       "      <th>4</th>\n",
       "      <td>인방 보는 남자는 거르는게 맞다</td>\n",
       "      <td>0.333333</td>\n",
       "    </tr>\n",
       "    <tr>\n",
       "      <th>...</th>\n",
       "      <td>...</td>\n",
       "      <td>...</td>\n",
       "    </tr>\n",
       "    <tr>\n",
       "      <th>363149</th>\n",
       "      <td>뷔응신처럼 죽지도 못하면서 괜히 뛰어들기는</td>\n",
       "      <td>0.466667</td>\n",
       "    </tr>\n",
       "    <tr>\n",
       "      <th>363150</th>\n",
       "      <td>오죽 하면 그러겠나</td>\n",
       "      <td>0.000000</td>\n",
       "    </tr>\n",
       "    <tr>\n",
       "      <th>363151</th>\n",
       "      <td>너 얼굴 보면 한숨 나온다.</td>\n",
       "      <td>0.533333</td>\n",
       "    </tr>\n",
       "    <tr>\n",
       "      <th>363152</th>\n",
       "      <td>신경 끄세요.</td>\n",
       "      <td>0.000000</td>\n",
       "    </tr>\n",
       "    <tr>\n",
       "      <th>363153</th>\n",
       "      <td>이제라도 관리 좀 해라.</td>\n",
       "      <td>0.000000</td>\n",
       "    </tr>\n",
       "  </tbody>\n",
       "</table>\n",
       "<p>363154 rows × 2 columns</p>\n",
       "</div>"
      ],
      "text/plain": [
       "                               text     score\n",
       "0       부랴부랴 왔는데 아무도 안왔네. 시간개념들이 없네  0.666667\n",
       "1                 맞아. 사람들이 진짜 개념이없다  0.666667\n",
       "2                      저렇게는 살지 말아야지  0.666667\n",
       "3            그러게 게으르고 멍청한 사람들은 맞아야해  0.666667\n",
       "4                 인방 보는 남자는 거르는게 맞다  0.333333\n",
       "...                             ...       ...\n",
       "363149      뷔응신처럼 죽지도 못하면서 괜히 뛰어들기는  0.466667\n",
       "363150                   오죽 하면 그러겠나  0.000000\n",
       "363151              너 얼굴 보면 한숨 나온다.  0.533333\n",
       "363152                      신경 끄세요.  0.000000\n",
       "363153                이제라도 관리 좀 해라.  0.000000\n",
       "\n",
       "[363154 rows x 2 columns]"
      ]
     },
     "execution_count": 3,
     "metadata": {},
     "output_type": "execute_result"
    }
   ],
   "source": [
    "train_df"
   ]
  },
  {
   "cell_type": "code",
   "execution_count": 4,
   "id": "9e11bb37-2369-49ca-9556-954c456a3348",
   "metadata": {},
   "outputs": [
    {
     "data": {
      "text/html": [
       "<div>\n",
       "<style scoped>\n",
       "    .dataframe tbody tr th:only-of-type {\n",
       "        vertical-align: middle;\n",
       "    }\n",
       "\n",
       "    .dataframe tbody tr th {\n",
       "        vertical-align: top;\n",
       "    }\n",
       "\n",
       "    .dataframe thead th {\n",
       "        text-align: right;\n",
       "    }\n",
       "</style>\n",
       "<table border=\"1\" class=\"dataframe\">\n",
       "  <thead>\n",
       "    <tr style=\"text-align: right;\">\n",
       "      <th></th>\n",
       "      <th>text</th>\n",
       "      <th>score</th>\n",
       "    </tr>\n",
       "  </thead>\n",
       "  <tbody>\n",
       "    <tr>\n",
       "      <th>0</th>\n",
       "      <td>명절이면 좀 일찍 마쳐주지</td>\n",
       "      <td>0.000000</td>\n",
       "    </tr>\n",
       "    <tr>\n",
       "      <th>1</th>\n",
       "      <td>원래 틀딱들은 눈치가 없어서 ㅋㅋㅋ</td>\n",
       "      <td>0.466667</td>\n",
       "    </tr>\n",
       "    <tr>\n",
       "      <th>2</th>\n",
       "      <td>저 나이 먹고 저렇게 눈치 없는 것도 재주다</td>\n",
       "      <td>0.333333</td>\n",
       "    </tr>\n",
       "    <tr>\n",
       "      <th>3</th>\n",
       "      <td>요즘은 왜 미세먼지가 별로 없지?</td>\n",
       "      <td>0.000000</td>\n",
       "    </tr>\n",
       "    <tr>\n",
       "      <th>4</th>\n",
       "      <td>호주랑 중국이랑 싸우고 있어서 중국에서 호주산석탄을 수입 안해서 그렇대</td>\n",
       "      <td>0.000000</td>\n",
       "    </tr>\n",
       "    <tr>\n",
       "      <th>...</th>\n",
       "      <td>...</td>\n",
       "      <td>...</td>\n",
       "    </tr>\n",
       "    <tr>\n",
       "      <th>45210</th>\n",
       "      <td>저 여자는 오늘도 레깅스 입네</td>\n",
       "      <td>0.000000</td>\n",
       "    </tr>\n",
       "    <tr>\n",
       "      <th>45211</th>\n",
       "      <td>남자 아래에 깔려서 당하고 싶은건가?</td>\n",
       "      <td>0.600000</td>\n",
       "    </tr>\n",
       "    <tr>\n",
       "      <th>45212</th>\n",
       "      <td>휴유, 내가 봐준다 뒷태가 끝내주는데!</td>\n",
       "      <td>0.000000</td>\n",
       "    </tr>\n",
       "    <tr>\n",
       "      <th>45213</th>\n",
       "      <td>저정도면 놀아달라는 거 아닌가? 저 라인봐봐 만지면 으스러지겠어</td>\n",
       "      <td>0.600000</td>\n",
       "    </tr>\n",
       "    <tr>\n",
       "      <th>45214</th>\n",
       "      <td>저 언덕 사이에 손을 넣고 주물러주면 그럴걸 ㅋㅋ 본인도 바라고 있지 않을까?</td>\n",
       "      <td>0.866667</td>\n",
       "    </tr>\n",
       "  </tbody>\n",
       "</table>\n",
       "<p>45215 rows × 2 columns</p>\n",
       "</div>"
      ],
      "text/plain": [
       "                                              text     score\n",
       "0                                   명절이면 좀 일찍 마쳐주지  0.000000\n",
       "1                              원래 틀딱들은 눈치가 없어서 ㅋㅋㅋ  0.466667\n",
       "2                         저 나이 먹고 저렇게 눈치 없는 것도 재주다  0.333333\n",
       "3                               요즘은 왜 미세먼지가 별로 없지?  0.000000\n",
       "4          호주랑 중국이랑 싸우고 있어서 중국에서 호주산석탄을 수입 안해서 그렇대  0.000000\n",
       "...                                            ...       ...\n",
       "45210                             저 여자는 오늘도 레깅스 입네  0.000000\n",
       "45211                         남자 아래에 깔려서 당하고 싶은건가?  0.600000\n",
       "45212                        휴유, 내가 봐준다 뒷태가 끝내주는데!  0.000000\n",
       "45213          저정도면 놀아달라는 거 아닌가? 저 라인봐봐 만지면 으스러지겠어  0.600000\n",
       "45214  저 언덕 사이에 손을 넣고 주물러주면 그럴걸 ㅋㅋ 본인도 바라고 있지 않을까?  0.866667\n",
       "\n",
       "[45215 rows x 2 columns]"
      ]
     },
     "execution_count": 4,
     "metadata": {},
     "output_type": "execute_result"
    }
   ],
   "source": [
    "valid_df"
   ]
  },
  {
   "cell_type": "code",
   "execution_count": 5,
   "id": "ba86c43e-1a31-4833-8da1-517542f50a55",
   "metadata": {},
   "outputs": [
    {
     "data": {
      "text/plain": [
       "<AxesSubplot:>"
      ]
     },
     "execution_count": 5,
     "metadata": {},
     "output_type": "execute_result"
    },
    {
     "data": {
      "image/png": "[encoded data removed]",
      "text/plain": [
       "<Figure size 640x480 with 1 Axes>"
      ]
     },
     "metadata": {},
     "output_type": "display_data"
    }
   ],
   "source": [
    "train_df.score.hist(bins=10)"
   ]
  },
  {
   "cell_type": "code",
   "execution_count": 6,
   "id": "f65b49d3-4021-4591-845c-f851e86590e6",
   "metadata": {},
   "outputs": [],
   "source": [
    "# The data has been removed to prevent some problems\n",
    "pd.DataFrame({'text':['' for _ in range(10)], 'score':[0 for _ in range(10)]}).to_csv('train.csv')\n",
    "pd.DataFrame({'text':['' for _ in range(10)], 'score':[0 for _ in range(10)]}).to_csv('valid.csv')\n"
   ]
  },
  {
   "cell_type": "code",
   "execution_count": null,
   "id": "77fc9f5e-52e9-49fb-8854-fb6ff0916e08",
   "metadata": {},
   "outputs": [],
   "source": []
  }
 ],
 "metadata": {
  "kernelspec": {
   "display_name": "Python 3 (ipykernel)",
   "language": "python",
   "name": "python3"
  },
  "language_info": {
   "codemirror_mode": {
    "name": "ipython",
    "version": 3
   },
   "file_extension": ".py",
   "mimetype": "text/x-python",
   "name": "python",
   "nbconvert_exporter": "python",
   "pygments_lexer": "ipython3",
   "version": "3.8.12"
  }
 },
 "nbformat": 4,
 "nbformat_minor": 5
}
